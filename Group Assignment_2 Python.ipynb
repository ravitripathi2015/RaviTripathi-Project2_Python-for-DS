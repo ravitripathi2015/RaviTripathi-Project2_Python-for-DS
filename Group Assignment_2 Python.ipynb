{
 "cells": [
  {
   "cell_type": "markdown",
   "id": "18bafff9",
   "metadata": {
    "id": "18bafff9"
   },
   "source": [
    "# Machine Learning Module - Unsupervised Learning"
   ]
  },
  {
   "cell_type": "markdown",
   "id": "43ca11bf",
   "metadata": {
    "id": "43ca11bf"
   },
   "source": [
    "### 1. Load the required libraries and read the dataset."
   ]
  },
  {
   "cell_type": "code",
   "execution_count": 1,
   "id": "0a07a98b",
   "metadata": {
    "id": "0a07a98b"
   },
   "outputs": [],
   "source": [
    "import numpy as np\n",
    "import pandas as pd\n",
    "import seaborn as sns\n",
    "import matplotlib.pyplot as plt\n",
    "import warnings\n",
    "warnings.filterwarnings('ignore')\n",
    "\n",
    "from sklearn.preprocessing import LabelEncoder, MinMaxScaler\n",
    "from sklearn.decomposition import PCA\n",
    "from sklearn.cluster import KMeans\n",
    "from scipy.cluster.hierarchy import linkage, dendrogram, fcluster\n",
    "from sklearn.cluster import AgglomerativeClustering\n",
    "from sklearn.metrics import silhouette_score"
   ]
  },
  {
   "cell_type": "code",
   "execution_count": 2,
   "id": "b07c327a",
   "metadata": {
    "id": "b07c327a"
   },
   "outputs": [],
   "source": [
    "df = pd.read_csv('renttherunway.csv')\n",
    "df.drop('Unnamed: 0',axis=1,inplace=True)"
   ]
  },
  {
   "cell_type": "markdown",
   "id": "3cc732e4",
   "metadata": {
    "id": "3cc732e4"
   },
   "source": [
    "### 2. Check the first few samples, shape, info of the data and try to familiarize yourself with different features"
   ]
  },
  {
   "cell_type": "code",
   "execution_count": 3,
   "id": "802c58fe",
   "metadata": {
    "id": "802c58fe",
    "outputId": "9629d4ae-4861-4acb-bb45-dc5134d5478e"
   },
   "outputs": [
    {
     "data": {
      "text/html": [
       "<div>\n",
       "<style scoped>\n",
       "    .dataframe tbody tr th:only-of-type {\n",
       "        vertical-align: middle;\n",
       "    }\n",
       "\n",
       "    .dataframe tbody tr th {\n",
       "        vertical-align: top;\n",
       "    }\n",
       "\n",
       "    .dataframe thead th {\n",
       "        text-align: right;\n",
       "    }\n",
       "</style>\n",
       "<table border=\"1\" class=\"dataframe\">\n",
       "  <thead>\n",
       "    <tr style=\"text-align: right;\">\n",
       "      <th></th>\n",
       "      <th>fit</th>\n",
       "      <th>user_id</th>\n",
       "      <th>bust size</th>\n",
       "      <th>item_id</th>\n",
       "      <th>weight</th>\n",
       "      <th>rating</th>\n",
       "      <th>rented for</th>\n",
       "      <th>review_text</th>\n",
       "      <th>body type</th>\n",
       "      <th>review_summary</th>\n",
       "      <th>category</th>\n",
       "      <th>height</th>\n",
       "      <th>size</th>\n",
       "      <th>age</th>\n",
       "      <th>review_date</th>\n",
       "    </tr>\n",
       "  </thead>\n",
       "  <tbody>\n",
       "    <tr>\n",
       "      <th>0</th>\n",
       "      <td>fit</td>\n",
       "      <td>420272</td>\n",
       "      <td>34d</td>\n",
       "      <td>2260466</td>\n",
       "      <td>137lbs</td>\n",
       "      <td>10.0</td>\n",
       "      <td>vacation</td>\n",
       "      <td>An adorable romper! Belt and zipper were a lit...</td>\n",
       "      <td>hourglass</td>\n",
       "      <td>So many compliments!</td>\n",
       "      <td>romper</td>\n",
       "      <td>5' 8\"</td>\n",
       "      <td>14</td>\n",
       "      <td>28.0</td>\n",
       "      <td>April 20, 2016</td>\n",
       "    </tr>\n",
       "    <tr>\n",
       "      <th>1</th>\n",
       "      <td>fit</td>\n",
       "      <td>273551</td>\n",
       "      <td>34b</td>\n",
       "      <td>153475</td>\n",
       "      <td>132lbs</td>\n",
       "      <td>10.0</td>\n",
       "      <td>other</td>\n",
       "      <td>I rented this dress for a photo shoot. The the...</td>\n",
       "      <td>straight &amp; narrow</td>\n",
       "      <td>I felt so glamourous!!!</td>\n",
       "      <td>gown</td>\n",
       "      <td>5' 6\"</td>\n",
       "      <td>12</td>\n",
       "      <td>36.0</td>\n",
       "      <td>June 18, 2013</td>\n",
       "    </tr>\n",
       "  </tbody>\n",
       "</table>\n",
       "</div>"
      ],
      "text/plain": [
       "   fit  user_id bust size  item_id  weight  rating rented for  \\\n",
       "0  fit   420272       34d  2260466  137lbs    10.0   vacation   \n",
       "1  fit   273551       34b   153475  132lbs    10.0      other   \n",
       "\n",
       "                                         review_text          body type  \\\n",
       "0  An adorable romper! Belt and zipper were a lit...          hourglass   \n",
       "1  I rented this dress for a photo shoot. The the...  straight & narrow   \n",
       "\n",
       "            review_summary category height  size   age     review_date  \n",
       "0     So many compliments!   romper  5' 8\"    14  28.0  April 20, 2016  \n",
       "1  I felt so glamourous!!!     gown  5' 6\"    12  36.0   June 18, 2013  "
      ]
     },
     "execution_count": 3,
     "metadata": {},
     "output_type": "execute_result"
    }
   ],
   "source": [
    "## Checking first few samples\n",
    "df.head(2)"
   ]
  },
  {
   "cell_type": "code",
   "execution_count": 4,
   "id": "00f49266",
   "metadata": {
    "id": "00f49266",
    "outputId": "c4f1bc19-c832-42f9-cb6f-41546d904e81"
   },
   "outputs": [
    {
     "data": {
      "text/plain": [
       "(192544, 15)"
      ]
     },
     "execution_count": 4,
     "metadata": {},
     "output_type": "execute_result"
    }
   ],
   "source": [
    "## Checking shape of the given dataset\n",
    "df.shape"
   ]
  },
  {
   "cell_type": "code",
   "execution_count": 5,
   "id": "b7836475",
   "metadata": {
    "id": "b7836475",
    "outputId": "1bade8cf-ad26-4786-ac04-77ce216f582e"
   },
   "outputs": [
    {
     "name": "stdout",
     "output_type": "stream",
     "text": [
      "<class 'pandas.core.frame.DataFrame'>\n",
      "RangeIndex: 192544 entries, 0 to 192543\n",
      "Data columns (total 15 columns):\n",
      " #   Column          Non-Null Count   Dtype  \n",
      "---  ------          --------------   -----  \n",
      " 0   fit             192544 non-null  object \n",
      " 1   user_id         192544 non-null  int64  \n",
      " 2   bust size       174133 non-null  object \n",
      " 3   item_id         192544 non-null  int64  \n",
      " 4   weight          162562 non-null  object \n",
      " 5   rating          192462 non-null  float64\n",
      " 6   rented for      192534 non-null  object \n",
      " 7   review_text     192476 non-null  object \n",
      " 8   body type       177907 non-null  object \n",
      " 9   review_summary  192197 non-null  object \n",
      " 10  category        192544 non-null  object \n",
      " 11  height          191867 non-null  object \n",
      " 12  size            192544 non-null  int64  \n",
      " 13  age             191584 non-null  float64\n",
      " 14  review_date     192544 non-null  object \n",
      "dtypes: float64(2), int64(3), object(10)\n",
      "memory usage: 22.0+ MB\n"
     ]
    }
   ],
   "source": [
    "## Checking basic information of the given dataset\n",
    "df.info()"
   ]
  },
  {
   "cell_type": "markdown",
   "id": "4fb9cd9f",
   "metadata": {
    "id": "4fb9cd9f"
   },
   "source": [
    "- There are 190+ K samples with 15 different features\n",
    "- We can observe there are missing values as the count is not same for all the given features\n",
    "- There are around 10 object type variables and 5 numerical variables."
   ]
  },
  {
   "cell_type": "markdown",
   "id": "4fb52240",
   "metadata": {},
   "source": [
    "# Data cleansing and Exploratory data analysis:"
   ]
  },
  {
   "cell_type": "markdown",
   "id": "c85b7d3c",
   "metadata": {
    "id": "c85b7d3c"
   },
   "source": [
    "### 3. Check if there are any duplicate records in the dataset? If any drop them"
   ]
  },
  {
   "cell_type": "code",
   "execution_count": 6,
   "id": "db302da7",
   "metadata": {
    "id": "db302da7",
    "outputId": "e851344f-dcb2-41ad-a640-1c03e920c1b2"
   },
   "outputs": [
    {
     "data": {
      "text/plain": [
       "189"
      ]
     },
     "execution_count": 6,
     "metadata": {},
     "output_type": "execute_result"
    }
   ],
   "source": [
    "## Cheking Duplicates\n",
    "len(df[df.duplicated()])"
   ]
  },
  {
   "cell_type": "markdown",
   "id": "d5764265",
   "metadata": {
    "id": "d5764265"
   },
   "source": [
    "- There are around 189 duplicated records, lets drop them."
   ]
  },
  {
   "cell_type": "code",
   "execution_count": 7,
   "id": "969c1e85",
   "metadata": {
    "id": "969c1e85"
   },
   "outputs": [],
   "source": [
    "## Dropping duplicates\n",
    "df.drop_duplicates(inplace=True)"
   ]
  },
  {
   "cell_type": "code",
   "execution_count": 8,
   "id": "324f8c4d",
   "metadata": {
    "id": "324f8c4d",
    "outputId": "fccca120-5086-4c83-bad8-a409b1c64613"
   },
   "outputs": [
    {
     "data": {
      "text/plain": [
       "0"
      ]
     },
     "execution_count": 8,
     "metadata": {},
     "output_type": "execute_result"
    }
   ],
   "source": [
    "## Re-checking after dropping duplicates records\n",
    "len(df[df.duplicated()])"
   ]
  },
  {
   "cell_type": "markdown",
   "id": "2a16bee2",
   "metadata": {
    "id": "2a16bee2"
   },
   "source": [
    "### 4. Drop the columns which you think redundant for the analysis."
   ]
  },
  {
   "cell_type": "code",
   "execution_count": 9,
   "id": "6fa4a5c4",
   "metadata": {
    "id": "6fa4a5c4"
   },
   "outputs": [],
   "source": [
    "## Dropping redundant columns\n",
    "df.drop(['user_id', 'item_id', 'review_text', 'review_summary', 'review_date'],axis=1,inplace=True)"
   ]
  },
  {
   "cell_type": "code",
   "execution_count": 10,
   "id": "566b2b5c",
   "metadata": {
    "id": "566b2b5c",
    "outputId": "3076d01c-1a34-4820-d3b1-6e055a19944b"
   },
   "outputs": [
    {
     "data": {
      "text/html": [
       "<div>\n",
       "<style scoped>\n",
       "    .dataframe tbody tr th:only-of-type {\n",
       "        vertical-align: middle;\n",
       "    }\n",
       "\n",
       "    .dataframe tbody tr th {\n",
       "        vertical-align: top;\n",
       "    }\n",
       "\n",
       "    .dataframe thead th {\n",
       "        text-align: right;\n",
       "    }\n",
       "</style>\n",
       "<table border=\"1\" class=\"dataframe\">\n",
       "  <thead>\n",
       "    <tr style=\"text-align: right;\">\n",
       "      <th></th>\n",
       "      <th>fit</th>\n",
       "      <th>bust size</th>\n",
       "      <th>weight</th>\n",
       "      <th>rating</th>\n",
       "      <th>rented for</th>\n",
       "      <th>body type</th>\n",
       "      <th>category</th>\n",
       "      <th>height</th>\n",
       "      <th>size</th>\n",
       "      <th>age</th>\n",
       "    </tr>\n",
       "  </thead>\n",
       "  <tbody>\n",
       "    <tr>\n",
       "      <th>0</th>\n",
       "      <td>fit</td>\n",
       "      <td>34d</td>\n",
       "      <td>137lbs</td>\n",
       "      <td>10.0</td>\n",
       "      <td>vacation</td>\n",
       "      <td>hourglass</td>\n",
       "      <td>romper</td>\n",
       "      <td>5' 8\"</td>\n",
       "      <td>14</td>\n",
       "      <td>28.0</td>\n",
       "    </tr>\n",
       "    <tr>\n",
       "      <th>1</th>\n",
       "      <td>fit</td>\n",
       "      <td>34b</td>\n",
       "      <td>132lbs</td>\n",
       "      <td>10.0</td>\n",
       "      <td>other</td>\n",
       "      <td>straight &amp; narrow</td>\n",
       "      <td>gown</td>\n",
       "      <td>5' 6\"</td>\n",
       "      <td>12</td>\n",
       "      <td>36.0</td>\n",
       "    </tr>\n",
       "  </tbody>\n",
       "</table>\n",
       "</div>"
      ],
      "text/plain": [
       "   fit bust size  weight  rating rented for          body type category  \\\n",
       "0  fit       34d  137lbs    10.0   vacation          hourglass   romper   \n",
       "1  fit       34b  132lbs    10.0      other  straight & narrow     gown   \n",
       "\n",
       "  height  size   age  \n",
       "0  5' 8\"    14  28.0  \n",
       "1  5' 6\"    12  36.0  "
      ]
     },
     "execution_count": 10,
     "metadata": {},
     "output_type": "execute_result"
    }
   ],
   "source": [
    "df.head(2)"
   ]
  },
  {
   "cell_type": "markdown",
   "id": "e89349dc",
   "metadata": {
    "id": "e89349dc"
   },
   "source": [
    "### 5. Check the column 'weight', Is there any presence of string data? If yes, remove the string data and convert to float."
   ]
  },
  {
   "cell_type": "code",
   "execution_count": 11,
   "id": "411389fd",
   "metadata": {
    "id": "411389fd"
   },
   "outputs": [],
   "source": [
    "df['weight'] = df['weight'].str.replace('lbs','').astype(float)"
   ]
  },
  {
   "cell_type": "code",
   "execution_count": 12,
   "id": "8808cb82",
   "metadata": {
    "id": "8808cb82",
    "outputId": "1cdc8bab-d7bf-4019-fb1f-8fb5b2fdaf79"
   },
   "outputs": [
    {
     "data": {
      "text/plain": [
       "0    137.0\n",
       "1    132.0\n",
       "2      NaN\n",
       "3    135.0\n",
       "4    145.0\n",
       "Name: weight, dtype: float64"
      ]
     },
     "execution_count": 12,
     "metadata": {},
     "output_type": "execute_result"
    }
   ],
   "source": [
    "df['weight'].head()"
   ]
  },
  {
   "cell_type": "markdown",
   "id": "e547c6a1",
   "metadata": {
    "id": "e547c6a1"
   },
   "source": [
    "### 6. Check the unique categories for the column 'rented for' and group 'party: cocktail' category with the 'party'."
   ]
  },
  {
   "cell_type": "code",
   "execution_count": 13,
   "id": "caaca007",
   "metadata": {
    "id": "caaca007",
    "outputId": "1a7c9de0-7bf5-44ee-a831-f4db466bedd0"
   },
   "outputs": [
    {
     "data": {
      "text/plain": [
       "array(['vacation', 'other', 'party', 'formal affair', 'wedding', 'date',\n",
       "       'everyday', 'work', nan, 'party: cocktail'], dtype=object)"
      ]
     },
     "execution_count": 13,
     "metadata": {},
     "output_type": "execute_result"
    }
   ],
   "source": [
    "df['rented for'].unique()"
   ]
  },
  {
   "cell_type": "code",
   "execution_count": 14,
   "id": "741cf847",
   "metadata": {
    "id": "741cf847"
   },
   "outputs": [],
   "source": [
    "## grouping 'party: cocktail'with the 'party'.\n",
    "df['rented for'] = df['rented for'].str.replace('party: cocktail','party')"
   ]
  },
  {
   "cell_type": "code",
   "execution_count": 15,
   "id": "fd23a5df",
   "metadata": {
    "id": "fd23a5df",
    "outputId": "750b9228-1d8d-4f15-c14b-cc56ab7088b9"
   },
   "outputs": [
    {
     "data": {
      "text/plain": [
       "array(['vacation', 'other', 'party', 'formal affair', 'wedding', 'date',\n",
       "       'everyday', 'work', nan], dtype=object)"
      ]
     },
     "execution_count": 15,
     "metadata": {},
     "output_type": "execute_result"
    }
   ],
   "source": [
    "## Rechecking after correcting respective values\n",
    "df['rented for'].unique()"
   ]
  },
  {
   "cell_type": "markdown",
   "id": "8134f815",
   "metadata": {
    "id": "8134f815"
   },
   "source": [
    "### 7. The column 'height' is in feet with a quotation mark, Convert to inches with float datatype."
   ]
  },
  {
   "cell_type": "code",
   "execution_count": 16,
   "id": "91371c75",
   "metadata": {
    "id": "91371c75"
   },
   "outputs": [],
   "source": [
    "## Removing quotation marks\n",
    "df['height'] = df['height'].str.replace(\"'\",'')\n",
    "df['height'] = df['height'].str.replace('\"','')"
   ]
  },
  {
   "cell_type": "code",
   "execution_count": 17,
   "id": "4866a6f3",
   "metadata": {
    "id": "4866a6f3"
   },
   "outputs": [],
   "source": [
    "## Converting the feet to inches and then converting to float\n",
    "df['height'] = (df['height'].str[:1].astype(float)*12 + df['height'].str[1:].astype(float))"
   ]
  },
  {
   "cell_type": "code",
   "execution_count": 18,
   "id": "b61fbfff",
   "metadata": {
    "id": "b61fbfff",
    "outputId": "783ef8d7-2371-47e4-c45e-5ab9934e68c7"
   },
   "outputs": [
    {
     "data": {
      "text/plain": [
       "0    68.0\n",
       "1    66.0\n",
       "2    64.0\n",
       "3    65.0\n",
       "4    69.0\n",
       "Name: height, dtype: float64"
      ]
     },
     "execution_count": 18,
     "metadata": {},
     "output_type": "execute_result"
    }
   ],
   "source": [
    "df['height'].head()"
   ]
  },
  {
   "cell_type": "markdown",
   "id": "fbdc7399",
   "metadata": {
    "id": "fbdc7399"
   },
   "source": [
    "### 8. Check for missing values in each column of the dataset? If it exists, impute them with appropriate methods."
   ]
  },
  {
   "cell_type": "code",
   "execution_count": 19,
   "id": "00697bee",
   "metadata": {
    "id": "00697bee",
    "outputId": "0de0ef6d-4b29-4cef-b0de-6c2dd0adaa7c"
   },
   "outputs": [
    {
     "data": {
      "text/plain": [
       "fit            0.000000\n",
       "bust size      9.561488\n",
       "weight        15.572769\n",
       "rating         0.042110\n",
       "rented for     0.005199\n",
       "body type      7.603130\n",
       "category       0.000000\n",
       "height         0.350914\n",
       "size           0.000000\n",
       "age            0.499077\n",
       "dtype: float64"
      ]
     },
     "execution_count": 19,
     "metadata": {},
     "output_type": "execute_result"
    }
   ],
   "source": [
    "df.isnull().sum()/len(df)*100"
   ]
  },
  {
   "cell_type": "markdown",
   "id": "2fb61933",
   "metadata": {
    "id": "2fb61933"
   },
   "source": [
    "- except size, category, and fit columns rest all columns has missing values."
   ]
  },
  {
   "cell_type": "code",
   "execution_count": 20,
   "id": "82231d49",
   "metadata": {
    "id": "82231d49"
   },
   "outputs": [],
   "source": [
    "## Treating numerical null values with meadian.\n",
    "for col in ['weight','rating','height','age']:\n",
    "    df[col].fillna(df[col].median(), inplace=True)"
   ]
  },
  {
   "cell_type": "code",
   "execution_count": 21,
   "id": "c733146f",
   "metadata": {
    "id": "c733146f"
   },
   "outputs": [],
   "source": [
    "## Treating Categorical null values with Mode.\n",
    "for col in ['bust size','rented for','body type','category']:\n",
    "    df[col].fillna(df[col].mode()[0], inplace=True)"
   ]
  },
  {
   "cell_type": "code",
   "execution_count": 22,
   "id": "7d5448e9",
   "metadata": {
    "id": "7d5448e9",
    "outputId": "f5657176-abff-45ff-e735-752d18356a08"
   },
   "outputs": [
    {
     "data": {
      "text/plain": [
       "fit           0\n",
       "bust size     0\n",
       "weight        0\n",
       "rating        0\n",
       "rented for    0\n",
       "body type     0\n",
       "category      0\n",
       "height        0\n",
       "size          0\n",
       "age           0\n",
       "dtype: int64"
      ]
     },
     "execution_count": 22,
     "metadata": {},
     "output_type": "execute_result"
    }
   ],
   "source": [
    "## Rechecking null after imputation\n",
    "df.isnull().sum()"
   ]
  },
  {
   "cell_type": "markdown",
   "id": "dc54695a",
   "metadata": {
    "id": "dc54695a"
   },
   "source": [
    "### 9. Check the statistical summary for the numerical and categorical columns and write your findings."
   ]
  },
  {
   "cell_type": "code",
   "execution_count": 23,
   "id": "be348fab",
   "metadata": {
    "id": "be348fab",
    "outputId": "3596f8cd-f85d-47a9-a9e9-eb06f03d63c2"
   },
   "outputs": [
    {
     "data": {
      "text/html": [
       "<div>\n",
       "<style scoped>\n",
       "    .dataframe tbody tr th:only-of-type {\n",
       "        vertical-align: middle;\n",
       "    }\n",
       "\n",
       "    .dataframe tbody tr th {\n",
       "        vertical-align: top;\n",
       "    }\n",
       "\n",
       "    .dataframe thead th {\n",
       "        text-align: right;\n",
       "    }\n",
       "</style>\n",
       "<table border=\"1\" class=\"dataframe\">\n",
       "  <thead>\n",
       "    <tr style=\"text-align: right;\">\n",
       "      <th></th>\n",
       "      <th>count</th>\n",
       "      <th>mean</th>\n",
       "      <th>std</th>\n",
       "      <th>min</th>\n",
       "      <th>25%</th>\n",
       "      <th>50%</th>\n",
       "      <th>75%</th>\n",
       "      <th>max</th>\n",
       "    </tr>\n",
       "  </thead>\n",
       "  <tbody>\n",
       "    <tr>\n",
       "      <th>weight</th>\n",
       "      <td>192355.0</td>\n",
       "      <td>137.019875</td>\n",
       "      <td>20.143567</td>\n",
       "      <td>50.0</td>\n",
       "      <td>125.0</td>\n",
       "      <td>135.0</td>\n",
       "      <td>145.0</td>\n",
       "      <td>300.0</td>\n",
       "    </tr>\n",
       "    <tr>\n",
       "      <th>rating</th>\n",
       "      <td>192355.0</td>\n",
       "      <td>9.092709</td>\n",
       "      <td>1.429922</td>\n",
       "      <td>2.0</td>\n",
       "      <td>8.0</td>\n",
       "      <td>10.0</td>\n",
       "      <td>10.0</td>\n",
       "      <td>10.0</td>\n",
       "    </tr>\n",
       "    <tr>\n",
       "      <th>height</th>\n",
       "      <td>192355.0</td>\n",
       "      <td>65.309334</td>\n",
       "      <td>2.658946</td>\n",
       "      <td>54.0</td>\n",
       "      <td>63.0</td>\n",
       "      <td>65.0</td>\n",
       "      <td>67.0</td>\n",
       "      <td>78.0</td>\n",
       "    </tr>\n",
       "    <tr>\n",
       "      <th>size</th>\n",
       "      <td>192355.0</td>\n",
       "      <td>12.245801</td>\n",
       "      <td>8.496299</td>\n",
       "      <td>0.0</td>\n",
       "      <td>8.0</td>\n",
       "      <td>12.0</td>\n",
       "      <td>16.0</td>\n",
       "      <td>58.0</td>\n",
       "    </tr>\n",
       "    <tr>\n",
       "      <th>age</th>\n",
       "      <td>192355.0</td>\n",
       "      <td>33.860633</td>\n",
       "      <td>8.039386</td>\n",
       "      <td>0.0</td>\n",
       "      <td>29.0</td>\n",
       "      <td>32.0</td>\n",
       "      <td>37.0</td>\n",
       "      <td>117.0</td>\n",
       "    </tr>\n",
       "  </tbody>\n",
       "</table>\n",
       "</div>"
      ],
      "text/plain": [
       "           count        mean        std   min    25%    50%    75%    max\n",
       "weight  192355.0  137.019875  20.143567  50.0  125.0  135.0  145.0  300.0\n",
       "rating  192355.0    9.092709   1.429922   2.0    8.0   10.0   10.0   10.0\n",
       "height  192355.0   65.309334   2.658946  54.0   63.0   65.0   67.0   78.0\n",
       "size    192355.0   12.245801   8.496299   0.0    8.0   12.0   16.0   58.0\n",
       "age     192355.0   33.860633   8.039386   0.0   29.0   32.0   37.0  117.0"
      ]
     },
     "execution_count": 23,
     "metadata": {},
     "output_type": "execute_result"
    }
   ],
   "source": [
    "## checking the statistical summary for the numerical columns\n",
    "df.describe().T"
   ]
  },
  {
   "cell_type": "code",
   "execution_count": 24,
   "id": "4794024f",
   "metadata": {
    "id": "4794024f",
    "outputId": "68d84b56-00ed-48be-9150-06c3b3b6e154"
   },
   "outputs": [
    {
     "data": {
      "text/html": [
       "<div>\n",
       "<style scoped>\n",
       "    .dataframe tbody tr th:only-of-type {\n",
       "        vertical-align: middle;\n",
       "    }\n",
       "\n",
       "    .dataframe tbody tr th {\n",
       "        vertical-align: top;\n",
       "    }\n",
       "\n",
       "    .dataframe thead th {\n",
       "        text-align: right;\n",
       "    }\n",
       "</style>\n",
       "<table border=\"1\" class=\"dataframe\">\n",
       "  <thead>\n",
       "    <tr style=\"text-align: right;\">\n",
       "      <th></th>\n",
       "      <th>count</th>\n",
       "      <th>unique</th>\n",
       "      <th>top</th>\n",
       "      <th>freq</th>\n",
       "    </tr>\n",
       "  </thead>\n",
       "  <tbody>\n",
       "    <tr>\n",
       "      <th>fit</th>\n",
       "      <td>192355</td>\n",
       "      <td>3</td>\n",
       "      <td>fit</td>\n",
       "      <td>141909</td>\n",
       "    </tr>\n",
       "    <tr>\n",
       "      <th>bust size</th>\n",
       "      <td>192355</td>\n",
       "      <td>106</td>\n",
       "      <td>34b</td>\n",
       "      <td>45647</td>\n",
       "    </tr>\n",
       "    <tr>\n",
       "      <th>rented for</th>\n",
       "      <td>192355</td>\n",
       "      <td>8</td>\n",
       "      <td>wedding</td>\n",
       "      <td>57747</td>\n",
       "    </tr>\n",
       "    <tr>\n",
       "      <th>body type</th>\n",
       "      <td>192355</td>\n",
       "      <td>7</td>\n",
       "      <td>hourglass</td>\n",
       "      <td>69915</td>\n",
       "    </tr>\n",
       "    <tr>\n",
       "      <th>category</th>\n",
       "      <td>192355</td>\n",
       "      <td>68</td>\n",
       "      <td>dress</td>\n",
       "      <td>92752</td>\n",
       "    </tr>\n",
       "  </tbody>\n",
       "</table>\n",
       "</div>"
      ],
      "text/plain": [
       "             count unique        top    freq\n",
       "fit         192355      3        fit  141909\n",
       "bust size   192355    106        34b   45647\n",
       "rented for  192355      8    wedding   57747\n",
       "body type   192355      7  hourglass   69915\n",
       "category    192355     68      dress   92752"
      ]
     },
     "execution_count": 24,
     "metadata": {},
     "output_type": "execute_result"
    }
   ],
   "source": [
    "## Checking statistical summary for the categorical columns.\n",
    "df.describe(include='O').T"
   ]
  },
  {
   "cell_type": "markdown",
   "id": "631f02ff",
   "metadata": {
    "id": "631f02ff"
   },
   "source": [
    "- The average weight of the customer is around 137lbs.\n",
    "- The average rating is around 9.\n",
    "- The maximum height of the customer is 78 inches.\n",
    "- The maximum standarized size of the product is 58.\n",
    "- The age range is 0 to 117.\n",
    "- Note we can see the min age is 0 we need to impute it with appropriate value and the maximun age we need to cap it to Upperlimit.\n",
    "- Most of the customers rented the product for wedding and the most appeared product category is as dress."
   ]
  },
  {
   "cell_type": "markdown",
   "id": "271ad07a",
   "metadata": {
    "id": "271ad07a"
   },
   "source": [
    "### 10. Is there outliers present in the column age? If yes treat them with appropriate method"
   ]
  },
  {
   "cell_type": "code",
   "execution_count": 25,
   "id": "6a3ad20d",
   "metadata": {
    "id": "6a3ad20d",
    "outputId": "9f3873b8-b1cf-48e3-ee80-8f6a6b78e68e"
   },
   "outputs": [
    {
     "data": {
      "image/png": "[encoded data removed]",
      "text/plain": [
       "<Figure size 640x480 with 1 Axes>"
      ]
     },
     "metadata": {},
     "output_type": "display_data"
    }
   ],
   "source": [
    "sns.boxplot(df['age'])\n",
    "plt.show()"
   ]
  },
  {
   "cell_type": "code",
   "execution_count": 26,
   "id": "350e6177",
   "metadata": {
    "id": "350e6177"
   },
   "outputs": [],
   "source": [
    "## Treating the outliers in the column age using capping techinque\n",
    "\n",
    "df['age'] = pd.DataFrame(np.where(df['age']>=100,100,df['age']))\n",
    "df['age'] = pd.DataFrame(np.where(df['age']<=20,20,df['age']))"
   ]
  },
  {
   "cell_type": "code",
   "execution_count": 27,
   "id": "30708095",
   "metadata": {
    "id": "30708095",
    "outputId": "e1fd3e38-4a48-42fc-d4b8-0883418abc7b"
   },
   "outputs": [
    {
     "data": {
      "image/png": "[encoded data removed]",
      "text/plain": [
       "<Figure size 640x480 with 1 Axes>"
      ]
     },
     "metadata": {},
     "output_type": "display_data"
    }
   ],
   "source": [
    "sns.boxplot(df['age'])\n",
    "plt.show()"
   ]
  },
  {
   "cell_type": "code",
   "execution_count": 28,
   "id": "e32e4fcf",
   "metadata": {
    "id": "e32e4fcf"
   },
   "outputs": [],
   "source": [
    "## dropping missing values in columns age if any after computation\n",
    "df.dropna(inplace=True)"
   ]
  },
  {
   "cell_type": "markdown",
   "id": "44777ef7",
   "metadata": {
    "id": "44777ef7"
   },
   "source": [
    "### 11. Check the distribution of the different categories in the column 'rented for' using appropriate plot."
   ]
  },
  {
   "cell_type": "code",
   "execution_count": 29,
   "id": "1279eca7",
   "metadata": {
    "id": "1279eca7",
    "outputId": "e6cb9f26-f340-474d-9da7-b6acf2c62f22"
   },
   "outputs": [
    {
     "data": {
      "image/png": "[encoded data removed]",
      "text/plain": [
       "<Figure size 640x480 with 1 Axes>"
      ]
     },
     "metadata": {},
     "output_type": "display_data"
    }
   ],
   "source": [
    "## Checking the distribution of the column rented for\n",
    "sns.countplot(x=df['rented for'])\n",
    "plt.xticks(rotation=45)\n",
    "plt.show()"
   ]
  },
  {
   "cell_type": "markdown",
   "id": "39e800b3",
   "metadata": {
    "id": "39e800b3"
   },
   "source": [
    "- We can see that the most of the customers rented the product for the wedding followed by party and formal affair."
   ]
  },
  {
   "cell_type": "markdown",
   "id": "6903f935",
   "metadata": {},
   "source": [
    "# 3. Data Preparation for model building:"
   ]
  },
  {
   "cell_type": "code",
   "execution_count": 30,
   "id": "1f5f13f2",
   "metadata": {
    "id": "1f5f13f2"
   },
   "outputs": [],
   "source": [
    "## Copying dataset before encoding and standardizing the columns\n",
    "dfc1 = df.copy()"
   ]
  },
  {
   "cell_type": "markdown",
   "id": "c5cf71f3",
   "metadata": {
    "id": "c5cf71f3"
   },
   "source": [
    "### 12. Encode the categorical variables in the dataset."
   ]
  },
  {
   "cell_type": "code",
   "execution_count": 31,
   "id": "9c091341",
   "metadata": {
    "id": "9c091341"
   },
   "outputs": [],
   "source": [
    "## Encoding categorical variables using label encoder\n",
    "\n",
    "## select object datatype variables\n",
    "object_type_variables = [i for i in df.columns if df.dtypes[i] == object]\n",
    "object_type_variables \n",
    "\n",
    "\n",
    "le = LabelEncoder()\n",
    "\n",
    "def encoder(df):\n",
    "    for i in object_type_variables:\n",
    "        q = le.fit_transform(df[i].astype(str))  \n",
    "        df[i] = q                               \n",
    "        df[i] = df[i].astype(int)\n",
    "encoder(df)"
   ]
  },
  {
   "cell_type": "code",
   "execution_count": 32,
   "id": "8fa71816",
   "metadata": {
    "id": "8fa71816",
    "outputId": "994ef154-bd8e-4205-c5c7-305c07ed9816"
   },
   "outputs": [
    {
     "data": {
      "text/html": [
       "<div>\n",
       "<style scoped>\n",
       "    .dataframe tbody tr th:only-of-type {\n",
       "        vertical-align: middle;\n",
       "    }\n",
       "\n",
       "    .dataframe tbody tr th {\n",
       "        vertical-align: top;\n",
       "    }\n",
       "\n",
       "    .dataframe thead th {\n",
       "        text-align: right;\n",
       "    }\n",
       "</style>\n",
       "<table border=\"1\" class=\"dataframe\">\n",
       "  <thead>\n",
       "    <tr style=\"text-align: right;\">\n",
       "      <th></th>\n",
       "      <th>fit</th>\n",
       "      <th>bust size</th>\n",
       "      <th>weight</th>\n",
       "      <th>rating</th>\n",
       "      <th>rented for</th>\n",
       "      <th>body type</th>\n",
       "      <th>category</th>\n",
       "      <th>height</th>\n",
       "      <th>size</th>\n",
       "      <th>age</th>\n",
       "    </tr>\n",
       "  </thead>\n",
       "  <tbody>\n",
       "    <tr>\n",
       "      <th>0</th>\n",
       "      <td>0</td>\n",
       "      <td>39</td>\n",
       "      <td>137.0</td>\n",
       "      <td>10.0</td>\n",
       "      <td>5</td>\n",
       "      <td>3</td>\n",
       "      <td>44</td>\n",
       "      <td>68.0</td>\n",
       "      <td>14</td>\n",
       "      <td>28.0</td>\n",
       "    </tr>\n",
       "    <tr>\n",
       "      <th>1</th>\n",
       "      <td>0</td>\n",
       "      <td>37</td>\n",
       "      <td>132.0</td>\n",
       "      <td>10.0</td>\n",
       "      <td>3</td>\n",
       "      <td>6</td>\n",
       "      <td>20</td>\n",
       "      <td>66.0</td>\n",
       "      <td>12</td>\n",
       "      <td>36.0</td>\n",
       "    </tr>\n",
       "    <tr>\n",
       "      <th>2</th>\n",
       "      <td>0</td>\n",
       "      <td>37</td>\n",
       "      <td>135.0</td>\n",
       "      <td>10.0</td>\n",
       "      <td>4</td>\n",
       "      <td>3</td>\n",
       "      <td>45</td>\n",
       "      <td>64.0</td>\n",
       "      <td>4</td>\n",
       "      <td>100.0</td>\n",
       "    </tr>\n",
       "    <tr>\n",
       "      <th>3</th>\n",
       "      <td>0</td>\n",
       "      <td>38</td>\n",
       "      <td>135.0</td>\n",
       "      <td>8.0</td>\n",
       "      <td>2</td>\n",
       "      <td>4</td>\n",
       "      <td>16</td>\n",
       "      <td>65.0</td>\n",
       "      <td>8</td>\n",
       "      <td>34.0</td>\n",
       "    </tr>\n",
       "    <tr>\n",
       "      <th>4</th>\n",
       "      <td>0</td>\n",
       "      <td>37</td>\n",
       "      <td>145.0</td>\n",
       "      <td>10.0</td>\n",
       "      <td>6</td>\n",
       "      <td>1</td>\n",
       "      <td>20</td>\n",
       "      <td>69.0</td>\n",
       "      <td>12</td>\n",
       "      <td>27.0</td>\n",
       "    </tr>\n",
       "  </tbody>\n",
       "</table>\n",
       "</div>"
      ],
      "text/plain": [
       "   fit  bust size  weight  rating  rented for  body type  category  height  \\\n",
       "0    0         39   137.0    10.0           5          3        44    68.0   \n",
       "1    0         37   132.0    10.0           3          6        20    66.0   \n",
       "2    0         37   135.0    10.0           4          3        45    64.0   \n",
       "3    0         38   135.0     8.0           2          4        16    65.0   \n",
       "4    0         37   145.0    10.0           6          1        20    69.0   \n",
       "\n",
       "   size    age  \n",
       "0    14   28.0  \n",
       "1    12   36.0  \n",
       "2     4  100.0  \n",
       "3     8   34.0  \n",
       "4    12   27.0  "
      ]
     },
     "execution_count": 32,
     "metadata": {},
     "output_type": "execute_result"
    }
   ],
   "source": [
    "df.head()"
   ]
  },
  {
   "cell_type": "markdown",
   "id": "e706d52c",
   "metadata": {
    "id": "e706d52c"
   },
   "source": [
    "### 13. Standardize the data, so that the values are within a particular range."
   ]
  },
  {
   "cell_type": "code",
   "execution_count": 33,
   "id": "b408d13d",
   "metadata": {
    "id": "b408d13d",
    "outputId": "fa0015ba-5bdf-430f-d525-432fd553810c"
   },
   "outputs": [
    {
     "data": {
      "text/html": [
       "<div>\n",
       "<style scoped>\n",
       "    .dataframe tbody tr th:only-of-type {\n",
       "        vertical-align: middle;\n",
       "    }\n",
       "\n",
       "    .dataframe tbody tr th {\n",
       "        vertical-align: top;\n",
       "    }\n",
       "\n",
       "    .dataframe thead th {\n",
       "        text-align: right;\n",
       "    }\n",
       "</style>\n",
       "<table border=\"1\" class=\"dataframe\">\n",
       "  <thead>\n",
       "    <tr style=\"text-align: right;\">\n",
       "      <th></th>\n",
       "      <th>fit</th>\n",
       "      <th>bust size</th>\n",
       "      <th>weight</th>\n",
       "      <th>rating</th>\n",
       "      <th>rented for</th>\n",
       "      <th>body type</th>\n",
       "      <th>category</th>\n",
       "      <th>height</th>\n",
       "      <th>size</th>\n",
       "      <th>age</th>\n",
       "    </tr>\n",
       "  </thead>\n",
       "  <tbody>\n",
       "    <tr>\n",
       "      <th>0</th>\n",
       "      <td>0.0</td>\n",
       "      <td>0.371429</td>\n",
       "      <td>0.348</td>\n",
       "      <td>1.00</td>\n",
       "      <td>0.714286</td>\n",
       "      <td>0.500000</td>\n",
       "      <td>0.656716</td>\n",
       "      <td>0.583333</td>\n",
       "      <td>0.241379</td>\n",
       "      <td>0.1000</td>\n",
       "    </tr>\n",
       "    <tr>\n",
       "      <th>1</th>\n",
       "      <td>0.0</td>\n",
       "      <td>0.352381</td>\n",
       "      <td>0.328</td>\n",
       "      <td>1.00</td>\n",
       "      <td>0.428571</td>\n",
       "      <td>1.000000</td>\n",
       "      <td>0.298507</td>\n",
       "      <td>0.500000</td>\n",
       "      <td>0.206897</td>\n",
       "      <td>0.2000</td>\n",
       "    </tr>\n",
       "    <tr>\n",
       "      <th>2</th>\n",
       "      <td>0.0</td>\n",
       "      <td>0.352381</td>\n",
       "      <td>0.340</td>\n",
       "      <td>1.00</td>\n",
       "      <td>0.571429</td>\n",
       "      <td>0.500000</td>\n",
       "      <td>0.671642</td>\n",
       "      <td>0.416667</td>\n",
       "      <td>0.068966</td>\n",
       "      <td>1.0000</td>\n",
       "    </tr>\n",
       "    <tr>\n",
       "      <th>3</th>\n",
       "      <td>0.0</td>\n",
       "      <td>0.361905</td>\n",
       "      <td>0.340</td>\n",
       "      <td>0.75</td>\n",
       "      <td>0.285714</td>\n",
       "      <td>0.666667</td>\n",
       "      <td>0.238806</td>\n",
       "      <td>0.458333</td>\n",
       "      <td>0.137931</td>\n",
       "      <td>0.1750</td>\n",
       "    </tr>\n",
       "    <tr>\n",
       "      <th>4</th>\n",
       "      <td>0.0</td>\n",
       "      <td>0.352381</td>\n",
       "      <td>0.380</td>\n",
       "      <td>1.00</td>\n",
       "      <td>0.857143</td>\n",
       "      <td>0.166667</td>\n",
       "      <td>0.298507</td>\n",
       "      <td>0.625000</td>\n",
       "      <td>0.206897</td>\n",
       "      <td>0.0875</td>\n",
       "    </tr>\n",
       "  </tbody>\n",
       "</table>\n",
       "</div>"
      ],
      "text/plain": [
       "   fit  bust size  weight  rating  rented for  body type  category    height  \\\n",
       "0  0.0   0.371429   0.348    1.00    0.714286   0.500000  0.656716  0.583333   \n",
       "1  0.0   0.352381   0.328    1.00    0.428571   1.000000  0.298507  0.500000   \n",
       "2  0.0   0.352381   0.340    1.00    0.571429   0.500000  0.671642  0.416667   \n",
       "3  0.0   0.361905   0.340    0.75    0.285714   0.666667  0.238806  0.458333   \n",
       "4  0.0   0.352381   0.380    1.00    0.857143   0.166667  0.298507  0.625000   \n",
       "\n",
       "       size     age  \n",
       "0  0.241379  0.1000  \n",
       "1  0.206897  0.2000  \n",
       "2  0.068966  1.0000  \n",
       "3  0.137931  0.1750  \n",
       "4  0.206897  0.0875  "
      ]
     },
     "execution_count": 33,
     "metadata": {},
     "output_type": "execute_result"
    }
   ],
   "source": [
    "## Tranforming the data using minmax scaling approach so that the values range will be 1.\n",
    "\n",
    "mm = MinMaxScaler()\n",
    "\n",
    "df.iloc[:,:] = mm.fit_transform(df.iloc[:,:])\n",
    "df.head()"
   ]
  },
  {
   "cell_type": "code",
   "execution_count": 34,
   "id": "0f7b2fe2",
   "metadata": {
    "id": "0f7b2fe2"
   },
   "outputs": [],
   "source": [
    "## Making another copy of the cleaned dataset after encoding and standardizing the columns.\n",
    "dfc2 = df.copy()"
   ]
  },
  {
   "cell_type": "markdown",
   "id": "791e347c",
   "metadata": {
    "id": "791e347c"
   },
   "source": [
    "### 14. Apply PCA on the above dataset and determine the number of PCA components to be used so that 90-95% of the variance in data is explained by the same. "
   ]
  },
  {
   "cell_type": "code",
   "execution_count": 35,
   "id": "25ca7fa9",
   "metadata": {
    "id": "25ca7fa9",
    "outputId": "2a8ee216-7cee-4424-d09b-a184902bca9f",
    "scrolled": true
   },
   "outputs": [
    {
     "data": {
      "text/plain": [
       "array([[ 1.26730745e-01,  3.45701617e-04,  3.89168782e-04,\n",
       "        -1.55972778e-02,  8.78647447e-04, -7.07071132e-04,\n",
       "         1.44511855e-05,  1.02680451e-05,  3.40946354e-03,\n",
       "         6.17262942e-06],\n",
       "       [ 3.45701617e-04,  1.08867149e-02,  4.78083550e-03,\n",
       "        -3.93676333e-04, -5.98882983e-05, -5.91196654e-03,\n",
       "        -2.18508806e-04,  1.70272658e-03,  9.58697159e-03,\n",
       "         1.79219656e-05],\n",
       "       [ 3.89168782e-04,  4.78083550e-03,  6.49054977e-03,\n",
       "        -3.00611278e-04,  2.31081613e-04, -4.95890557e-03,\n",
       "        -2.22493614e-04,  3.11676011e-03,  8.53408158e-03,\n",
       "        -5.94072717e-06],\n",
       "       [-1.55972778e-02, -3.93676333e-04, -3.00611278e-04,\n",
       "         3.19574727e-02,  6.63820980e-04,  2.22987872e-04,\n",
       "        -8.05529964e-04,  3.50561318e-05, -9.61954298e-04,\n",
       "         4.54908867e-06],\n",
       "       [ 8.78647447e-04, -5.98882983e-05,  2.31081613e-04,\n",
       "         6.63820980e-04,  8.65633768e-02, -7.05120242e-04,\n",
       "        -3.23050298e-03, -5.60041470e-04,  2.13246115e-04,\n",
       "        -1.13614112e-04],\n",
       "       [-7.07071132e-04, -5.91196654e-03, -4.95890557e-03,\n",
       "         2.22987872e-04, -7.05120242e-04,  6.87849796e-02,\n",
       "        -9.52804142e-05, -3.88541566e-03, -8.23620220e-03,\n",
       "        -1.58717839e-05],\n",
       "       [ 1.44511855e-05, -2.18508806e-04, -2.22493614e-04,\n",
       "        -8.05529964e-04, -3.23050298e-03, -9.52804142e-05,\n",
       "         3.64294257e-02, -9.07460145e-05, -1.57245512e-04,\n",
       "         2.01455385e-05],\n",
       "       [ 1.02680451e-05,  1.70272658e-03,  3.11676011e-03,\n",
       "         3.50561318e-05, -5.60041470e-04, -3.88541566e-03,\n",
       "        -9.07460145e-05,  1.22767800e-02,  3.70935052e-03,\n",
       "        -3.36769672e-05],\n",
       "       [ 3.40946354e-03,  9.58697159e-03,  8.53408158e-03,\n",
       "        -9.61954298e-04,  2.13246115e-04, -8.23620220e-03,\n",
       "        -1.57245512e-04,  3.70935052e-03,  2.14499089e-02,\n",
       "         7.68481679e-05],\n",
       "       [ 6.17262942e-06,  1.79219656e-05, -5.94072717e-06,\n",
       "         4.54908867e-06, -1.13614112e-04, -1.58717839e-05,\n",
       "         2.01455385e-05, -3.36769672e-05,  7.68481679e-05,\n",
       "         9.87611571e-03]])"
      ]
     },
     "execution_count": 35,
     "metadata": {},
     "output_type": "execute_result"
    }
   ],
   "source": [
    "## step1: Calculate the covariance matrix.\n",
    "cov_matrix = np.cov(df.T)\n",
    "cov_matrix"
   ]
  },
  {
   "cell_type": "code",
   "execution_count": 36,
   "id": "719bd17d",
   "metadata": {
    "id": "719bd17d",
    "outputId": "8c8261e2-decf-4c7e-8d3f-9ecc0169b253",
    "scrolled": true
   },
   "outputs": [
    {
     "name": "stdout",
     "output_type": "stream",
     "text": [
      "eigein vals: \n",
      " [0.12938976 0.08680527 0.07224491 0.03631375 0.02964848 0.02838126\n",
      " 0.00235741 0.00516446 0.01126672 0.00987405]\n",
      "\n",
      "\n",
      "eigein vectors \n",
      " [[-9.86372904e-01 -1.67817535e-02 -2.68987573e-02  1.74759323e-02\n",
      "  -1.51875288e-01 -4.98824100e-02  6.45514540e-03 -1.18206470e-02\n",
      "   4.70738339e-03  3.27795763e-05]\n",
      " [-7.48815116e-03  4.14554752e-03  1.35147780e-01  1.88244564e-02\n",
      "   2.04955240e-01 -3.73968854e-01 -1.22881254e-01 -8.62686190e-01\n",
      "  -1.99878578e-01 -1.30151965e-02]\n",
      " [-7.08464750e-03  6.67437203e-03  1.12228985e-01  1.62226924e-02\n",
      "   1.65721693e-01 -3.06774966e-01  9.27436082e-01  4.49882568e-02\n",
      "   5.75037289e-02 -1.96745018e-03]\n",
      " [ 1.58226924e-01  1.73682515e-02 -2.67121451e-03  1.02822736e-01\n",
      "  -8.64703867e-01 -4.65035702e-01  9.92905539e-04 -1.01662148e-03\n",
      "  -1.04527413e-02 -8.20422044e-04]\n",
      " [-1.82056607e-02  9.96583741e-01 -4.54436596e-02 -6.53225158e-02\n",
      "   9.03480164e-03 -1.28979703e-04 -2.65763611e-03 -2.80231857e-03\n",
      "   7.59419093e-03  1.73527053e-03]\n",
      " [ 1.85389811e-02 -4.42075336e-02 -9.57894642e-01  9.23173382e-03\n",
      "   1.38168043e-01 -2.45139304e-01  9.95496893e-03 -1.75549128e-02\n",
      "   2.15297154e-02  3.73630945e-04]\n",
      " [-8.14543354e-04 -6.41765577e-02  4.06504250e-03 -9.91635839e-01\n",
      "  -7.46237676e-02 -8.32205524e-02  3.19042999e-03 -3.81019205e-03\n",
      "   1.76425579e-03 -6.06228727e-04]\n",
      " [-1.98224523e-03 -4.27361652e-03  8.47585322e-02  1.13944687e-02\n",
      "   9.30800881e-02 -1.93599288e-01 -1.46435359e-01 -8.19965419e-02\n",
      "   9.57651326e-01  3.54481004e-02]\n",
      " [-3.53091205e-02  9.08149987e-03  2.03914045e-01  2.60895080e-02\n",
      "   3.55450954e-01 -6.65419498e-01 -3.21165226e-01  4.96512095e-01\n",
      "  -1.93849961e-01 -5.61544433e-03]\n",
      " [-5.31300179e-05 -1.46843295e-03  5.58639051e-04 -3.88241324e-04\n",
      "   8.73740677e-04 -2.68523582e-03  3.61881262e-03 -5.44008292e-03\n",
      "  -3.75802280e-02  9.99266951e-01]]\n"
     ]
    }
   ],
   "source": [
    "## step2: Calculate the eigen values and eigen vectors.\n",
    "eig_vals, eig_vectors = np.linalg.eig(cov_matrix)\n",
    "print('eigein vals:','\\n',eig_vals)\n",
    "print('\\n')\n",
    "print('eigein vectors','\\n',eig_vectors)"
   ]
  },
  {
   "cell_type": "code",
   "execution_count": 37,
   "id": "c07e0d19",
   "metadata": {
    "id": "c07e0d19",
    "outputId": "9df00071-61fb-4e85-b744-3177d17daa8f"
   },
   "outputs": [
    {
     "name": "stdout",
     "output_type": "stream",
     "text": [
      "Explained Variance:  [31.44756182756907, 21.097606455245767, 17.558780484644178, 8.825884429678059, 7.205921116170703, 6.89793062061895, 2.7383216880096533, 2.399840275144109, 1.2551968667573832, 0.5729562361621161]\n",
      "Cummulative Variance Explained:  [ 31.44756183  52.54516828  70.10394877  78.9298332   86.13575431\n",
      "  93.03368493  95.77200662  98.1718469   99.42704376 100.        ]\n"
     ]
    }
   ],
   "source": [
    "## step3: Scree plot.\n",
    "total = sum(eig_vals)\n",
    "var_exp = [(i/total)*100 for i in sorted(eig_vals,reverse=True)]\n",
    "cum_var_exp = np.cumsum(var_exp)\n",
    "print('Explained Variance: ',var_exp)\n",
    "print('Cummulative Variance Explained: ',cum_var_exp)"
   ]
  },
  {
   "cell_type": "code",
   "execution_count": 38,
   "id": "c79b014f",
   "metadata": {
    "id": "c79b014f",
    "outputId": "0558b186-da1f-485b-c2c7-087418a0831a",
    "scrolled": true
   },
   "outputs": [
    {
     "data": {
      "image/png": "[encoded data removed]",
      "text/plain": [
       "<Figure size 640x480 with 1 Axes>"
      ]
     },
     "metadata": {},
     "output_type": "display_data"
    }
   ],
   "source": [
    "## Scree plot.\n",
    "plt.bar(range(10),var_exp,align='center',color='lightgreen',edgecolor='black',label='Explained Variance')\n",
    "plt.step(range(10),cum_var_exp,where='mid',color='red',label='Cummulative Explained Variance')\n",
    "plt.xlabel('Principal Components')\n",
    "plt.ylabel('Explianed Variance ratio')\n",
    "plt.title('Scree Plot')\n",
    "plt.legend(loc='best')\n",
    "plt.show()"
   ]
  },
  {
   "cell_type": "markdown",
   "id": "6cd49640",
   "metadata": {
    "id": "6cd49640"
   },
   "source": [
    "- We can observe from the above scree plot the first 6 principal components are explaining the about 90-95% of the variation, So we can choose optimal number of principal components as 6."
   ]
  },
  {
   "cell_type": "markdown",
   "id": "c207fe73",
   "metadata": {
    "id": "c207fe73"
   },
   "source": [
    "### 15. Apply K-means clustering and segment the data (You may use original data or PCA transformed data)\n",
    "- a. Find the optimal K Value using elbow plot for KMeans clustering.\n",
    "- b. Build a Kmeans clustering model using the obtained optimal K value from the elbow plot.\n",
    "- c. Compute silhoutte score for evaluating the quality of the Kmeans clustering technique."
   ]
  },
  {
   "cell_type": "code",
   "execution_count": 39,
   "id": "4b962a9d",
   "metadata": {
    "id": "4b962a9d",
    "outputId": "764eafbf-52ac-46f6-cd10-f6a3056cf7c8"
   },
   "outputs": [
    {
     "data": {
      "text/html": [
       "<div>\n",
       "<style scoped>\n",
       "    .dataframe tbody tr th:only-of-type {\n",
       "        vertical-align: middle;\n",
       "    }\n",
       "\n",
       "    .dataframe tbody tr th {\n",
       "        vertical-align: top;\n",
       "    }\n",
       "\n",
       "    .dataframe thead th {\n",
       "        text-align: right;\n",
       "    }\n",
       "</style>\n",
       "<table border=\"1\" class=\"dataframe\">\n",
       "  <thead>\n",
       "    <tr style=\"text-align: right;\">\n",
       "      <th></th>\n",
       "      <th>PC1</th>\n",
       "      <th>PC2</th>\n",
       "      <th>PC3</th>\n",
       "      <th>PC4</th>\n",
       "      <th>PC5</th>\n",
       "      <th>PC6</th>\n",
       "    </tr>\n",
       "  </thead>\n",
       "  <tbody>\n",
       "    <tr>\n",
       "      <th>0</th>\n",
       "      <td>-0.209133</td>\n",
       "      <td>-0.136583</td>\n",
       "      <td>0.009660</td>\n",
       "      <td>0.296642</td>\n",
       "      <td>-0.067215</td>\n",
       "      <td>0.110611</td>\n",
       "    </tr>\n",
       "    <tr>\n",
       "      <th>1</th>\n",
       "      <td>-0.225558</td>\n",
       "      <td>0.147587</td>\n",
       "      <td>-0.476618</td>\n",
       "      <td>-0.079279</td>\n",
       "      <td>-0.001126</td>\n",
       "      <td>0.151264</td>\n",
       "    </tr>\n",
       "    <tr>\n",
       "      <th>2</th>\n",
       "      <td>-0.218292</td>\n",
       "      <td>0.009051</td>\n",
       "      <td>-0.036041</td>\n",
       "      <td>0.309346</td>\n",
       "      <td>-0.150861</td>\n",
       "      <td>-0.042320</td>\n",
       "    </tr>\n",
       "    <tr>\n",
       "      <th>3</th>\n",
       "      <td>-0.184834</td>\n",
       "      <td>0.276023</td>\n",
       "      <td>-0.165377</td>\n",
       "      <td>-0.117140</td>\n",
       "      <td>0.147685</td>\n",
       "      <td>-0.098476</td>\n",
       "    </tr>\n",
       "    <tr>\n",
       "      <th>4</th>\n",
       "      <td>-0.201696</td>\n",
       "      <td>-0.316338</td>\n",
       "      <td>0.318520</td>\n",
       "      <td>-0.045902</td>\n",
       "      <td>-0.092240</td>\n",
       "      <td>-0.013113</td>\n",
       "    </tr>\n",
       "  </tbody>\n",
       "</table>\n",
       "</div>"
      ],
      "text/plain": [
       "        PC1       PC2       PC3       PC4       PC5       PC6\n",
       "0 -0.209133 -0.136583  0.009660  0.296642 -0.067215  0.110611\n",
       "1 -0.225558  0.147587 -0.476618 -0.079279 -0.001126  0.151264\n",
       "2 -0.218292  0.009051 -0.036041  0.309346 -0.150861 -0.042320\n",
       "3 -0.184834  0.276023 -0.165377 -0.117140  0.147685 -0.098476\n",
       "4 -0.201696 -0.316338  0.318520 -0.045902 -0.092240 -0.013113"
      ]
     },
     "execution_count": 39,
     "metadata": {},
     "output_type": "execute_result"
    }
   ],
   "source": [
    "## Using the dimensions obtainted from the PCA to apply clustering\n",
    "pca = PCA(n_components=6)\n",
    "\n",
    "pca_df = pd.DataFrame(pca.fit_transform(df),columns=['PC1','PC2','PC3','PC4','PC5','PC6'])\n",
    "pca_df.head()"
   ]
  },
  {
   "cell_type": "markdown",
   "id": "5c0976fb",
   "metadata": {
    "id": "5c0976fb"
   },
   "source": [
    "- These are the new dimensions obtained from the application of PCA."
   ]
  },
  {
   "cell_type": "markdown",
   "id": "df2536c4",
   "metadata": {
    "id": "df2536c4"
   },
   "source": [
    "#### Kmeans clustering (using the PCA tranformed data)"
   ]
  },
  {
   "cell_type": "code",
   "execution_count": 40,
   "id": "2f07b0f2",
   "metadata": {
    "id": "2f07b0f2"
   },
   "outputs": [],
   "source": [
    "## finding optimal K value by KMeans clustering using Elbow plot.\n",
    "cluster_errors = []\n",
    "cluster_range = range(2,15)\n",
    "for num_clusters in cluster_range:\n",
    "    clusters = KMeans(num_clusters,random_state=100)\n",
    "    clusters.fit(pca_df)\n",
    "    cluster_errors.append(clusters.inertia_)"
   ]
  },
  {
   "cell_type": "code",
   "execution_count": 41,
   "id": "5d50267d",
   "metadata": {
    "id": "5d50267d"
   },
   "outputs": [],
   "source": [
    "## creataing a dataframe of number of clusters and cluster errors.\n",
    "cluster_df = pd.DataFrame({'num_clusters':cluster_range,'cluster_errors':cluster_errors})"
   ]
  },
  {
   "cell_type": "code",
   "execution_count": 42,
   "id": "169a7415",
   "metadata": {
    "id": "169a7415",
    "outputId": "5c1666df-6da0-4c62-c4c0-d96f54cd0d05"
   },
   "outputs": [
    {
     "data": {
      "image/png": "[encoded data removed]",
      "text/plain": [
       "<Figure size 1500x500 with 1 Axes>"
      ]
     },
     "metadata": {},
     "output_type": "display_data"
    }
   ],
   "source": [
    "## Elbow plot.\n",
    "plt.figure(figsize=[15,5])\n",
    "plt.plot(cluster_df['num_clusters'],cluster_df['cluster_errors'],marker='o',color='b')\n",
    "plt.show()"
   ]
  },
  {
   "cell_type": "markdown",
   "id": "4b2b60cd",
   "metadata": {
    "id": "4b2b60cd"
   },
   "source": [
    "- From the above elbow plot we can see at the cluster K=3, the inertia significantly decreases . Hence we can select our optimal clusters as K=3."
   ]
  },
  {
   "cell_type": "code",
   "execution_count": 43,
   "id": "8baecdb3",
   "metadata": {
    "id": "8baecdb3",
    "outputId": "74d3c53f-eacc-48bc-adc1-9c251fed6f98"
   },
   "outputs": [
    {
     "data": {
      "text/html": [
       "<style>#sk-container-id-1 {color: black;}#sk-container-id-1 pre{padding: 0;}#sk-container-id-1 div.sk-toggleable {background-color: white;}#sk-container-id-1 label.sk-toggleable__label {cursor: pointer;display: block;width: 100%;margin-bottom: 0;padding: 0.3em;box-sizing: border-box;text-align: center;}#sk-container-id-1 label.sk-toggleable__label-arrow:before {content: \"▸\";float: left;margin-right: 0.25em;color: #696969;}#sk-container-id-1 label.sk-toggleable__label-arrow:hover:before {color: black;}#sk-container-id-1 div.sk-estimator:hover label.sk-toggleable__label-arrow:before {color: black;}#sk-container-id-1 div.sk-toggleable__content {max-height: 0;max-width: 0;overflow: hidden;text-align: left;background-color: #f0f8ff;}#sk-container-id-1 div.sk-toggleable__content pre {margin: 0.2em;color: black;border-radius: 0.25em;background-color: #f0f8ff;}#sk-container-id-1 input.sk-toggleable__control:checked~div.sk-toggleable__content {max-height: 200px;max-width: 100%;overflow: auto;}#sk-container-id-1 input.sk-toggleable__control:checked~label.sk-toggleable__label-arrow:before {content: \"▾\";}#sk-container-id-1 div.sk-estimator input.sk-toggleable__control:checked~label.sk-toggleable__label {background-color: #d4ebff;}#sk-container-id-1 div.sk-label input.sk-toggleable__control:checked~label.sk-toggleable__label {background-color: #d4ebff;}#sk-container-id-1 input.sk-hidden--visually {border: 0;clip: rect(1px 1px 1px 1px);clip: rect(1px, 1px, 1px, 1px);height: 1px;margin: -1px;overflow: hidden;padding: 0;position: absolute;width: 1px;}#sk-container-id-1 div.sk-estimator {font-family: monospace;background-color: #f0f8ff;border: 1px dotted black;border-radius: 0.25em;box-sizing: border-box;margin-bottom: 0.5em;}#sk-container-id-1 div.sk-estimator:hover {background-color: #d4ebff;}#sk-container-id-1 div.sk-parallel-item::after {content: \"\";width: 100%;border-bottom: 1px solid gray;flex-grow: 1;}#sk-container-id-1 div.sk-label:hover label.sk-toggleable__label {background-color: #d4ebff;}#sk-container-id-1 div.sk-serial::before {content: \"\";position: absolute;border-left: 1px solid gray;box-sizing: border-box;top: 0;bottom: 0;left: 50%;z-index: 0;}#sk-container-id-1 div.sk-serial {display: flex;flex-direction: column;align-items: center;background-color: white;padding-right: 0.2em;padding-left: 0.2em;position: relative;}#sk-container-id-1 div.sk-item {position: relative;z-index: 1;}#sk-container-id-1 div.sk-parallel {display: flex;align-items: stretch;justify-content: center;background-color: white;position: relative;}#sk-container-id-1 div.sk-item::before, #sk-container-id-1 div.sk-parallel-item::before {content: \"\";position: absolute;border-left: 1px solid gray;box-sizing: border-box;top: 0;bottom: 0;left: 50%;z-index: -1;}#sk-container-id-1 div.sk-parallel-item {display: flex;flex-direction: column;z-index: 1;position: relative;background-color: white;}#sk-container-id-1 div.sk-parallel-item:first-child::after {align-self: flex-end;width: 50%;}#sk-container-id-1 div.sk-parallel-item:last-child::after {align-self: flex-start;width: 50%;}#sk-container-id-1 div.sk-parallel-item:only-child::after {width: 0;}#sk-container-id-1 div.sk-dashed-wrapped {border: 1px dashed gray;margin: 0 0.4em 0.5em 0.4em;box-sizing: border-box;padding-bottom: 0.4em;background-color: white;}#sk-container-id-1 div.sk-label label {font-family: monospace;font-weight: bold;display: inline-block;line-height: 1.2em;}#sk-container-id-1 div.sk-label-container {text-align: center;}#sk-container-id-1 div.sk-container {/* jupyter's `normalize.less` sets `[hidden] { display: none; }` but bootstrap.min.css set `[hidden] { display: none !important; }` so we also need the `!important` here to be able to override the default hidden behavior on the sphinx rendered scikit-learn.org. See: https://github.com/scikit-learn/scikit-learn/issues/21755 */display: inline-block !important;position: relative;}#sk-container-id-1 div.sk-text-repr-fallback {display: none;}</style><div id=\"sk-container-id-1\" class=\"sk-top-container\"><div class=\"sk-text-repr-fallback\"><pre>KMeans(n_clusters=3, random_state=100)</pre><b>In a Jupyter environment, please rerun this cell to show the HTML representation or trust the notebook. <br />On GitHub, the HTML representation is unable to render, please try loading this page with nbviewer.org.</b></div><div class=\"sk-container\" hidden><div class=\"sk-item\"><div class=\"sk-estimator sk-toggleable\"><input class=\"sk-toggleable__control sk-hidden--visually\" id=\"sk-estimator-id-1\" type=\"checkbox\" checked><label for=\"sk-estimator-id-1\" class=\"sk-toggleable__label sk-toggleable__label-arrow\">KMeans</label><div class=\"sk-toggleable__content\"><pre>KMeans(n_clusters=3, random_state=100)</pre></div></div></div></div></div>"
      ],
      "text/plain": [
       "KMeans(n_clusters=3, random_state=100)"
      ]
     },
     "execution_count": 43,
     "metadata": {},
     "output_type": "execute_result"
    }
   ],
   "source": [
    "## Applying KMeans clustering for the optimal number of clusters obtained above.\n",
    "kmeans = KMeans(n_clusters=3, random_state=100)\n",
    "kmeans.fit(pca_df)"
   ]
  },
  {
   "cell_type": "code",
   "execution_count": 44,
   "id": "33159eee",
   "metadata": {
    "id": "33159eee"
   },
   "outputs": [],
   "source": [
    "## creating a dataframe of the labels.\n",
    "label = pd.DataFrame(kmeans.labels_,columns=['Label'])"
   ]
  },
  {
   "cell_type": "code",
   "execution_count": 45,
   "id": "64022c98",
   "metadata": {
    "id": "64022c98",
    "outputId": "47daba2a-e05a-4f55-c686-62802bd1b8b3"
   },
   "outputs": [
    {
     "data": {
      "text/html": [
       "<div>\n",
       "<style scoped>\n",
       "    .dataframe tbody tr th:only-of-type {\n",
       "        vertical-align: middle;\n",
       "    }\n",
       "\n",
       "    .dataframe tbody tr th {\n",
       "        vertical-align: top;\n",
       "    }\n",
       "\n",
       "    .dataframe thead th {\n",
       "        text-align: right;\n",
       "    }\n",
       "</style>\n",
       "<table border=\"1\" class=\"dataframe\">\n",
       "  <thead>\n",
       "    <tr style=\"text-align: right;\">\n",
       "      <th></th>\n",
       "      <th>PC1</th>\n",
       "      <th>PC2</th>\n",
       "      <th>PC3</th>\n",
       "      <th>PC4</th>\n",
       "      <th>PC5</th>\n",
       "      <th>PC6</th>\n",
       "      <th>Label</th>\n",
       "    </tr>\n",
       "  </thead>\n",
       "  <tbody>\n",
       "    <tr>\n",
       "      <th>0</th>\n",
       "      <td>-0.209133</td>\n",
       "      <td>-0.136583</td>\n",
       "      <td>0.009660</td>\n",
       "      <td>0.296642</td>\n",
       "      <td>-0.067215</td>\n",
       "      <td>0.110611</td>\n",
       "      <td>1</td>\n",
       "    </tr>\n",
       "    <tr>\n",
       "      <th>1</th>\n",
       "      <td>-0.225558</td>\n",
       "      <td>0.147587</td>\n",
       "      <td>-0.476618</td>\n",
       "      <td>-0.079279</td>\n",
       "      <td>-0.001126</td>\n",
       "      <td>0.151264</td>\n",
       "      <td>2</td>\n",
       "    </tr>\n",
       "    <tr>\n",
       "      <th>2</th>\n",
       "      <td>-0.218292</td>\n",
       "      <td>0.009051</td>\n",
       "      <td>-0.036041</td>\n",
       "      <td>0.309346</td>\n",
       "      <td>-0.150861</td>\n",
       "      <td>-0.042320</td>\n",
       "      <td>1</td>\n",
       "    </tr>\n",
       "    <tr>\n",
       "      <th>3</th>\n",
       "      <td>-0.184834</td>\n",
       "      <td>0.276023</td>\n",
       "      <td>-0.165377</td>\n",
       "      <td>-0.117140</td>\n",
       "      <td>0.147685</td>\n",
       "      <td>-0.098476</td>\n",
       "      <td>2</td>\n",
       "    </tr>\n",
       "    <tr>\n",
       "      <th>4</th>\n",
       "      <td>-0.201696</td>\n",
       "      <td>-0.316338</td>\n",
       "      <td>0.318520</td>\n",
       "      <td>-0.045902</td>\n",
       "      <td>-0.092240</td>\n",
       "      <td>-0.013113</td>\n",
       "      <td>1</td>\n",
       "    </tr>\n",
       "  </tbody>\n",
       "</table>\n",
       "</div>"
      ],
      "text/plain": [
       "        PC1       PC2       PC3       PC4       PC5       PC6  Label\n",
       "0 -0.209133 -0.136583  0.009660  0.296642 -0.067215  0.110611      1\n",
       "1 -0.225558  0.147587 -0.476618 -0.079279 -0.001126  0.151264      2\n",
       "2 -0.218292  0.009051 -0.036041  0.309346 -0.150861 -0.042320      1\n",
       "3 -0.184834  0.276023 -0.165377 -0.117140  0.147685 -0.098476      2\n",
       "4 -0.201696 -0.316338  0.318520 -0.045902 -0.092240 -0.013113      1"
      ]
     },
     "execution_count": 45,
     "metadata": {},
     "output_type": "execute_result"
    }
   ],
   "source": [
    "## joining the label dataframe to the pca_df dataframe.\n",
    "kmeans_df = pca_df.join(label)\n",
    "kmeans_df.head()"
   ]
  },
  {
   "cell_type": "code",
   "execution_count": 46,
   "id": "c7a1af7a",
   "metadata": {
    "id": "c7a1af7a",
    "outputId": "c7f961bb-0af1-4873-e981-593ce09a01d8"
   },
   "outputs": [
    {
     "data": {
      "text/plain": [
       "Label\n",
       "1    82498\n",
       "2    65782\n",
       "0    43697\n",
       "Name: count, dtype: int64"
      ]
     },
     "execution_count": 46,
     "metadata": {},
     "output_type": "execute_result"
    }
   ],
   "source": [
    "kmeans_df['Label'].value_counts()"
   ]
  },
  {
   "cell_type": "code",
   "execution_count": 48,
   "id": "e0250318",
   "metadata": {
    "id": "e0250318",
    "outputId": "992def10-e784-4099-9b78-9db02050367c"
   },
   "outputs": [
    {
     "ename": "KeyboardInterrupt",
     "evalue": "",
     "output_type": "error",
     "traceback": [
      "\u001b[1;31m---------------------------------------------------------------------------\u001b[0m",
      "\u001b[1;31mKeyboardInterrupt\u001b[0m                         Traceback (most recent call last)",
      "Cell \u001b[1;32mIn[48], line 7\u001b[0m\n\u001b[0;32m      5\u001b[0m kmeans\u001b[38;5;241m.\u001b[39mfit(pca_df)\n\u001b[0;32m      6\u001b[0m labels \u001b[38;5;241m=\u001b[39m kmeans\u001b[38;5;241m.\u001b[39mpredict(pca_df)\n\u001b[1;32m----> 7\u001b[0m \u001b[38;5;28mprint\u001b[39m(i,silhouette_score(pca_df,labels))\n",
      "File \u001b[1;32m~\\anaconda3\\Lib\\site-packages\\sklearn\\utils\\_param_validation.py:211\u001b[0m, in \u001b[0;36mvalidate_params.<locals>.decorator.<locals>.wrapper\u001b[1;34m(*args, **kwargs)\u001b[0m\n\u001b[0;32m    205\u001b[0m \u001b[38;5;28;01mtry\u001b[39;00m:\n\u001b[0;32m    206\u001b[0m     \u001b[38;5;28;01mwith\u001b[39;00m config_context(\n\u001b[0;32m    207\u001b[0m         skip_parameter_validation\u001b[38;5;241m=\u001b[39m(\n\u001b[0;32m    208\u001b[0m             prefer_skip_nested_validation \u001b[38;5;129;01mor\u001b[39;00m global_skip_validation\n\u001b[0;32m    209\u001b[0m         )\n\u001b[0;32m    210\u001b[0m     ):\n\u001b[1;32m--> 211\u001b[0m         \u001b[38;5;28;01mreturn\u001b[39;00m func(\u001b[38;5;241m*\u001b[39margs, \u001b[38;5;241m*\u001b[39m\u001b[38;5;241m*\u001b[39mkwargs)\n\u001b[0;32m    212\u001b[0m \u001b[38;5;28;01mexcept\u001b[39;00m InvalidParameterError \u001b[38;5;28;01mas\u001b[39;00m e:\n\u001b[0;32m    213\u001b[0m     \u001b[38;5;66;03m# When the function is just a wrapper around an estimator, we allow\u001b[39;00m\n\u001b[0;32m    214\u001b[0m     \u001b[38;5;66;03m# the function to delegate validation to the estimator, but we replace\u001b[39;00m\n\u001b[0;32m    215\u001b[0m     \u001b[38;5;66;03m# the name of the estimator by the name of the function in the error\u001b[39;00m\n\u001b[0;32m    216\u001b[0m     \u001b[38;5;66;03m# message to avoid confusion.\u001b[39;00m\n\u001b[0;32m    217\u001b[0m     msg \u001b[38;5;241m=\u001b[39m re\u001b[38;5;241m.\u001b[39msub(\n\u001b[0;32m    218\u001b[0m         \u001b[38;5;124mr\u001b[39m\u001b[38;5;124m\"\u001b[39m\u001b[38;5;124mparameter of \u001b[39m\u001b[38;5;124m\\\u001b[39m\u001b[38;5;124mw+ must be\u001b[39m\u001b[38;5;124m\"\u001b[39m,\n\u001b[0;32m    219\u001b[0m         \u001b[38;5;124mf\u001b[39m\u001b[38;5;124m\"\u001b[39m\u001b[38;5;124mparameter of \u001b[39m\u001b[38;5;132;01m{\u001b[39;00mfunc\u001b[38;5;241m.\u001b[39m\u001b[38;5;18m__qualname__\u001b[39m\u001b[38;5;132;01m}\u001b[39;00m\u001b[38;5;124m must be\u001b[39m\u001b[38;5;124m\"\u001b[39m,\n\u001b[0;32m    220\u001b[0m         \u001b[38;5;28mstr\u001b[39m(e),\n\u001b[0;32m    221\u001b[0m     )\n",
      "File \u001b[1;32m~\\anaconda3\\Lib\\site-packages\\sklearn\\metrics\\cluster\\_unsupervised.py:131\u001b[0m, in \u001b[0;36msilhouette_score\u001b[1;34m(X, labels, metric, sample_size, random_state, **kwds)\u001b[0m\n\u001b[0;32m    129\u001b[0m     \u001b[38;5;28;01melse\u001b[39;00m:\n\u001b[0;32m    130\u001b[0m         X, labels \u001b[38;5;241m=\u001b[39m X[indices], labels[indices]\n\u001b[1;32m--> 131\u001b[0m \u001b[38;5;28;01mreturn\u001b[39;00m np\u001b[38;5;241m.\u001b[39mmean(silhouette_samples(X, labels, metric\u001b[38;5;241m=\u001b[39mmetric, \u001b[38;5;241m*\u001b[39m\u001b[38;5;241m*\u001b[39mkwds))\n",
      "File \u001b[1;32m~\\anaconda3\\Lib\\site-packages\\sklearn\\utils\\_param_validation.py:184\u001b[0m, in \u001b[0;36mvalidate_params.<locals>.decorator.<locals>.wrapper\u001b[1;34m(*args, **kwargs)\u001b[0m\n\u001b[0;32m    182\u001b[0m global_skip_validation \u001b[38;5;241m=\u001b[39m get_config()[\u001b[38;5;124m\"\u001b[39m\u001b[38;5;124mskip_parameter_validation\u001b[39m\u001b[38;5;124m\"\u001b[39m]\n\u001b[0;32m    183\u001b[0m \u001b[38;5;28;01mif\u001b[39;00m global_skip_validation:\n\u001b[1;32m--> 184\u001b[0m     \u001b[38;5;28;01mreturn\u001b[39;00m func(\u001b[38;5;241m*\u001b[39margs, \u001b[38;5;241m*\u001b[39m\u001b[38;5;241m*\u001b[39mkwargs)\n\u001b[0;32m    186\u001b[0m func_sig \u001b[38;5;241m=\u001b[39m signature(func)\n\u001b[0;32m    188\u001b[0m \u001b[38;5;66;03m# Map *args/**kwargs to the function signature\u001b[39;00m\n",
      "File \u001b[1;32m~\\anaconda3\\Lib\\site-packages\\sklearn\\metrics\\cluster\\_unsupervised.py:283\u001b[0m, in \u001b[0;36msilhouette_samples\u001b[1;34m(X, labels, metric, **kwds)\u001b[0m\n\u001b[0;32m    279\u001b[0m kwds[\u001b[38;5;124m\"\u001b[39m\u001b[38;5;124mmetric\u001b[39m\u001b[38;5;124m\"\u001b[39m] \u001b[38;5;241m=\u001b[39m metric\n\u001b[0;32m    280\u001b[0m reduce_func \u001b[38;5;241m=\u001b[39m functools\u001b[38;5;241m.\u001b[39mpartial(\n\u001b[0;32m    281\u001b[0m     _silhouette_reduce, labels\u001b[38;5;241m=\u001b[39mlabels, label_freqs\u001b[38;5;241m=\u001b[39mlabel_freqs\n\u001b[0;32m    282\u001b[0m )\n\u001b[1;32m--> 283\u001b[0m results \u001b[38;5;241m=\u001b[39m \u001b[38;5;28mzip\u001b[39m(\u001b[38;5;241m*\u001b[39mpairwise_distances_chunked(X, reduce_func\u001b[38;5;241m=\u001b[39mreduce_func, \u001b[38;5;241m*\u001b[39m\u001b[38;5;241m*\u001b[39mkwds))\n\u001b[0;32m    284\u001b[0m intra_clust_dists, inter_clust_dists \u001b[38;5;241m=\u001b[39m results\n\u001b[0;32m    285\u001b[0m intra_clust_dists \u001b[38;5;241m=\u001b[39m np\u001b[38;5;241m.\u001b[39mconcatenate(intra_clust_dists)\n",
      "File \u001b[1;32m~\\anaconda3\\Lib\\site-packages\\sklearn\\metrics\\pairwise.py:2026\u001b[0m, in \u001b[0;36mpairwise_distances_chunked\u001b[1;34m(X, Y, reduce_func, metric, n_jobs, working_memory, **kwds)\u001b[0m\n\u001b[0;32m   2024\u001b[0m \u001b[38;5;28;01mif\u001b[39;00m reduce_func \u001b[38;5;129;01mis\u001b[39;00m \u001b[38;5;129;01mnot\u001b[39;00m \u001b[38;5;28;01mNone\u001b[39;00m:\n\u001b[0;32m   2025\u001b[0m     chunk_size \u001b[38;5;241m=\u001b[39m D_chunk\u001b[38;5;241m.\u001b[39mshape[\u001b[38;5;241m0\u001b[39m]\n\u001b[1;32m-> 2026\u001b[0m     D_chunk \u001b[38;5;241m=\u001b[39m reduce_func(D_chunk, sl\u001b[38;5;241m.\u001b[39mstart)\n\u001b[0;32m   2027\u001b[0m     _check_chunk_size(D_chunk, chunk_size)\n\u001b[0;32m   2028\u001b[0m \u001b[38;5;28;01myield\u001b[39;00m D_chunk\n",
      "File \u001b[1;32m~\\anaconda3\\Lib\\site-packages\\sklearn\\metrics\\cluster\\_unsupervised.py:172\u001b[0m, in \u001b[0;36m_silhouette_reduce\u001b[1;34m(D_chunk, start, labels, label_freqs)\u001b[0m\n\u001b[0;32m    170\u001b[0m         sample_weights \u001b[38;5;241m=\u001b[39m D_chunk[i]\n\u001b[0;32m    171\u001b[0m         sample_labels \u001b[38;5;241m=\u001b[39m labels\n\u001b[1;32m--> 172\u001b[0m         cluster_distances[i] \u001b[38;5;241m+\u001b[39m\u001b[38;5;241m=\u001b[39m np\u001b[38;5;241m.\u001b[39mbincount(\n\u001b[0;32m    173\u001b[0m             sample_labels, weights\u001b[38;5;241m=\u001b[39msample_weights, minlength\u001b[38;5;241m=\u001b[39m\u001b[38;5;28mlen\u001b[39m(label_freqs)\n\u001b[0;32m    174\u001b[0m         )\n\u001b[0;32m    176\u001b[0m \u001b[38;5;66;03m# intra_index selects intra-cluster distances within cluster_distances\u001b[39;00m\n\u001b[0;32m    177\u001b[0m end \u001b[38;5;241m=\u001b[39m start \u001b[38;5;241m+\u001b[39m n_chunk_samples\n",
      "File \u001b[1;32m<__array_function__ internals>:200\u001b[0m, in \u001b[0;36mbincount\u001b[1;34m(*args, **kwargs)\u001b[0m\n",
      "\u001b[1;31mKeyboardInterrupt\u001b[0m: "
     ]
    }
   ],
   "source": [
    "## finding optimal clusters through silhoutte score\n",
    "from sklearn.metrics import silhouette_score\n",
    "for i in range(2,15):\n",
    "    kmeans = KMeans(i,random_state=100)\n",
    "    kmeans.fit(pca_df)\n",
    "    labels = kmeans.predict(pca_df)\n",
    "    print(i,silhouette_score(pca_df,labels))"
   ]
  },
  {
   "cell_type": "markdown",
   "id": "8f12fcc5",
   "metadata": {
    "id": "8f12fcc5"
   },
   "source": [
    "- Above from elbow plot we chose optimal K value as 3 and we built a Kmeans clustering model.\n",
    "- From the silhoutte score we can observe the for clusters 2 and 3 the score is higher. We can build Kmeans clustering model using the optimal K value as either 2 or 3."
   ]
  },
  {
   "cell_type": "markdown",
   "id": "1fd81c2f",
   "metadata": {
    "id": "1fd81c2f"
   },
   "source": [
    "### 16. Apply Agglomerative clustering and segement the data.\n",
    "- a. Find the optimal K Value using dendrogram for Agglomerative clustering.\n",
    "- b. Build a Agglomerative clustering model using the obtained optimal K value from observed from dendrogram.\n",
    "- c. Compute silhouette score for evaluating the quality of the Agglomerative\n",
    "clustering technique. (Hint: Take a sample of the dataset for agglomerative\n",
    "clustering to reduce the computational time)"
   ]
  },
  {
   "cell_type": "markdown",
   "id": "b9b3c042",
   "metadata": {
    "id": "b9b3c042"
   },
   "source": [
    "#### Agglomerative clustering (using original data)"
   ]
  },
  {
   "cell_type": "code",
   "execution_count": 49,
   "id": "d9141fda",
   "metadata": {
    "id": "d9141fda"
   },
   "outputs": [],
   "source": [
    "## Since dataset is huge plotting dendrogram might be time consuming.\n",
    "## Hence taking smaller dataset"
   ]
  },
  {
   "cell_type": "code",
   "execution_count": 50,
   "id": "95e97a8b",
   "metadata": {
    "id": "95e97a8b"
   },
   "outputs": [],
   "source": [
    "### Copying sample dataset\n",
    "dfc3 = dfc2.sample(n=50000)\n",
    "\n",
    "## reseting the index\n",
    "dfc3.reset_index(inplace=True,drop=True)"
   ]
  },
  {
   "cell_type": "code",
   "execution_count": 51,
   "id": "2850723c",
   "metadata": {
    "id": "2850723c",
    "outputId": "a1ec3611-83c8-49f5-989f-212904a040b3"
   },
   "outputs": [
    {
     "data": {
      "text/html": [
       "<div>\n",
       "<style scoped>\n",
       "    .dataframe tbody tr th:only-of-type {\n",
       "        vertical-align: middle;\n",
       "    }\n",
       "\n",
       "    .dataframe tbody tr th {\n",
       "        vertical-align: top;\n",
       "    }\n",
       "\n",
       "    .dataframe thead th {\n",
       "        text-align: right;\n",
       "    }\n",
       "</style>\n",
       "<table border=\"1\" class=\"dataframe\">\n",
       "  <thead>\n",
       "    <tr style=\"text-align: right;\">\n",
       "      <th></th>\n",
       "      <th>fit</th>\n",
       "      <th>bust size</th>\n",
       "      <th>weight</th>\n",
       "      <th>rating</th>\n",
       "      <th>rented for</th>\n",
       "      <th>body type</th>\n",
       "      <th>category</th>\n",
       "      <th>height</th>\n",
       "      <th>size</th>\n",
       "      <th>age</th>\n",
       "    </tr>\n",
       "  </thead>\n",
       "  <tbody>\n",
       "    <tr>\n",
       "      <th>0</th>\n",
       "      <td>0.0</td>\n",
       "      <td>0.609524</td>\n",
       "      <td>0.760</td>\n",
       "      <td>1.00</td>\n",
       "      <td>0.857143</td>\n",
       "      <td>0.666667</td>\n",
       "      <td>0.298507</td>\n",
       "      <td>0.416667</td>\n",
       "      <td>0.775862</td>\n",
       "      <td>0.3250</td>\n",
       "    </tr>\n",
       "    <tr>\n",
       "      <th>1</th>\n",
       "      <td>0.0</td>\n",
       "      <td>0.228571</td>\n",
       "      <td>0.280</td>\n",
       "      <td>0.75</td>\n",
       "      <td>0.285714</td>\n",
       "      <td>1.000000</td>\n",
       "      <td>0.298507</td>\n",
       "      <td>0.458333</td>\n",
       "      <td>0.068966</td>\n",
       "      <td>0.1375</td>\n",
       "    </tr>\n",
       "    <tr>\n",
       "      <th>2</th>\n",
       "      <td>0.0</td>\n",
       "      <td>0.352381</td>\n",
       "      <td>0.312</td>\n",
       "      <td>1.00</td>\n",
       "      <td>1.000000</td>\n",
       "      <td>0.500000</td>\n",
       "      <td>0.194030</td>\n",
       "      <td>0.666667</td>\n",
       "      <td>0.068966</td>\n",
       "      <td>0.1375</td>\n",
       "    </tr>\n",
       "    <tr>\n",
       "      <th>3</th>\n",
       "      <td>1.0</td>\n",
       "      <td>0.209524</td>\n",
       "      <td>0.288</td>\n",
       "      <td>0.75</td>\n",
       "      <td>0.857143</td>\n",
       "      <td>0.166667</td>\n",
       "      <td>0.238806</td>\n",
       "      <td>0.541667</td>\n",
       "      <td>0.017241</td>\n",
       "      <td>0.1625</td>\n",
       "    </tr>\n",
       "  </tbody>\n",
       "</table>\n",
       "</div>"
      ],
      "text/plain": [
       "   fit  bust size  weight  rating  rented for  body type  category    height  \\\n",
       "0  0.0   0.609524   0.760    1.00    0.857143   0.666667  0.298507  0.416667   \n",
       "1  0.0   0.228571   0.280    0.75    0.285714   1.000000  0.298507  0.458333   \n",
       "2  0.0   0.352381   0.312    1.00    1.000000   0.500000  0.194030  0.666667   \n",
       "3  1.0   0.209524   0.288    0.75    0.857143   0.166667  0.238806  0.541667   \n",
       "\n",
       "       size     age  \n",
       "0  0.775862  0.3250  \n",
       "1  0.068966  0.1375  \n",
       "2  0.068966  0.1375  \n",
       "3  0.017241  0.1625  "
      ]
     },
     "execution_count": 51,
     "metadata": {},
     "output_type": "execute_result"
    }
   ],
   "source": [
    "dfc3.head(4)"
   ]
  },
  {
   "cell_type": "markdown",
   "id": "4428887b",
   "metadata": {
    "id": "4428887b"
   },
   "source": [
    "#### Dendrogram"
   ]
  },
  {
   "cell_type": "code",
   "execution_count": null,
   "id": "933308ae",
   "metadata": {
    "id": "933308ae",
    "outputId": "e50b6a71-c38f-45f9-c7bb-41f1d0862d0b"
   },
   "outputs": [],
   "source": [
    "plt.figure(figsize=[18,5])\n",
    "merg = linkage(dfc3, method='ward')\n",
    "dendrogram(merg, leaf_rotation=90,)\n",
    "plt.xlabel('Datapoints')\n",
    "plt.ylabel('Euclidean distance')\n",
    "plt.show()"
   ]
  },
  {
   "cell_type": "markdown",
   "id": "fc55380b",
   "metadata": {
    "id": "fc55380b"
   },
   "source": [
    "- We look for the largest distance that we can vertically observe without crossing any horizontal line.\n",
    "- We can observe from the above dendrogram that we can choose optimal clusters has 2."
   ]
  },
  {
   "cell_type": "code",
   "execution_count": null,
   "id": "6ff15e9e",
   "metadata": {
    "id": "6ff15e9e"
   },
   "outputs": [],
   "source": [
    "## Building hierarchical clustering model using the optimal clusters as 2\n",
    "hie_cluster = AgglomerativeClustering(n_clusters=2, affinity='euclidean',\n",
    "                                     linkage='ward')\n",
    "hie_cluster_model = hie_cluster.fit(dfc3)"
   ]
  },
  {
   "cell_type": "code",
   "execution_count": null,
   "id": "a2a95a1a",
   "metadata": {
    "id": "a2a95a1a",
    "outputId": "8bcba277-6902-4fa0-8767-f30eb25bad4c"
   },
   "outputs": [],
   "source": [
    "## Creating a dataframe of the labels\n",
    "df_label1 = pd.DataFrame(hie_cluster_model.labels_,columns=['Labels'])\n",
    "df_label1.head(5)"
   ]
  },
  {
   "cell_type": "code",
   "execution_count": null,
   "id": "fde8b538",
   "metadata": {
    "id": "fde8b538",
    "outputId": "ad0a2260-20b8-4d58-97b7-f005aac35dc1"
   },
   "outputs": [],
   "source": [
    "## joining the label dataframe with unscaled initial cleaned dataframe.(dfc1)\n",
    "\n",
    "df_hier = dfc1.join(df_label1)\n",
    "df_hier.head()"
   ]
  },
  {
   "cell_type": "code",
   "execution_count": null,
   "id": "e2e4c136",
   "metadata": {
    "id": "e2e4c136",
    "outputId": "0336cb9a-4c3f-47c3-ef0b-562cfb9c81e3"
   },
   "outputs": [],
   "source": [
    "for i in range(2,15):\n",
    "    hier = AgglomerativeClustering(n_clusters=i)\n",
    "    hier = hier.fit(dfc3)\n",
    "    labels = hier.fit_predict(dfc3)\n",
    "    print(i,silhouette_score(dfc3,labels))"
   ]
  },
  {
   "cell_type": "markdown",
   "id": "14cd27e7",
   "metadata": {
    "id": "14cd27e7"
   },
   "source": [
    "- We can observe from the silhouette scores for the agglomerative clustering for the 2 clusers the silhouette score is higher. "
   ]
  },
  {
   "cell_type": "markdown",
   "id": "ba347c8e",
   "metadata": {
    "id": "ba347c8e"
   },
   "source": [
    "### 17. Conclusion."
   ]
  },
  {
   "cell_type": "markdown",
   "id": "be23d3ed",
   "metadata": {
    "id": "be23d3ed"
   },
   "source": [
    "Perform cluster analysis by doing bivariate analysis between cluster label and different features and write your\n",
    "conclusion on the results."
   ]
  },
  {
   "cell_type": "code",
   "execution_count": null,
   "id": "80990bbb",
   "metadata": {
    "id": "80990bbb",
    "outputId": "7dac369f-4b65-4b0e-ae71-079fb8c8bb2a"
   },
   "outputs": [],
   "source": [
    "df_hier.head(2)"
   ]
  },
  {
   "cell_type": "code",
   "execution_count": null,
   "id": "7e07f83c",
   "metadata": {
    "id": "7e07f83c",
    "outputId": "52606f95-e261-484a-8f2c-3a69b7ddd766",
    "scrolled": true
   },
   "outputs": [],
   "source": [
    "df_hier['Labels'].value_counts().plot(kind='pie',autopct='%0.1f')\n",
    "plt.show()"
   ]
  },
  {
   "cell_type": "markdown",
   "id": "a863edad",
   "metadata": {
    "id": "a863edad"
   },
   "source": [
    "- We can observe that the clusters formed are imbalanced. There are more number of records assigned to cluster 0 than that of cluster 1."
   ]
  },
  {
   "cell_type": "code",
   "execution_count": null,
   "id": "8f4a3fc3",
   "metadata": {
    "id": "8f4a3fc3",
    "outputId": "37550905-6901-48a3-edcc-e7c7d064cc63"
   },
   "outputs": [],
   "source": [
    "## Checking the distribution of the different categories of 'rented for' column \n",
    "sns.countplot(df_hier['rented for'],hue='Labels',data=df_hier)\n",
    "plt.xticks(rotation = 45)\n",
    "plt.show()"
   ]
  },
  {
   "cell_type": "markdown",
   "id": "f92b3f86",
   "metadata": {
    "id": "f92b3f86"
   },
   "source": [
    "-  We can observe that there are more number of users who have rented the product is for 'wedding' and also there are more number of users belong to the cluster 0 compare to the cluster 1."
   ]
  },
  {
   "cell_type": "code",
   "execution_count": null,
   "id": "14844c1e",
   "metadata": {
    "id": "14844c1e",
    "outputId": "a0130279-2441-4f4b-ba45-6e6214c992ed"
   },
   "outputs": [],
   "source": [
    "## Checking the age distribution of the different clusters.\n",
    "sns.kdeplot(df_hier['age'],hue='Labels',data=df_hier)\n",
    "plt.show()"
   ]
  },
  {
   "cell_type": "markdown",
   "id": "a44cba8a",
   "metadata": {
    "id": "a44cba8a"
   },
   "source": [
    "- The distribution of the age for different clusters is almost same, since there are more number of observations assigned to the cluster 0."
   ]
  },
  {
   "cell_type": "markdown",
   "id": "43228a45",
   "metadata": {
    "id": "43228a45"
   },
   "source": [
    "- In this project, we have attempted to implement and apply PCA on the renttherunway dataset and we selected 6 PCA compoments, which gave us the 90-95% of the variance in the data.\n",
    "- Also, we have used the PCA dimensions to cluster the data and segment the similar data in to clusters using KMeans clustering.\n",
    "- We have used Kmeans clustering algorithm to cluster the data, First we chose the optimal K value with the help of elbow plot used obtained K value from elbow plot to build a kmeans clustering model.\n",
    "- We have computed the silhoutte score for the different K values and evaluated the goodness of the clustering technique used.\n",
    "- We took the sample of the data and did agglomerative clustering using the original data and plotted dendrogram and analyzed the optimal number of classes and built a agglomerative clustering model using the obtained K value and evaluated the model using silhoutte score.\n",
    "- In this dataset, we had less number of features, further we can ask the company to collect the demographic information such as income and education. Geographic info such as where the customer is located rural or urban, city etc. Behavioral info such as browsing, spent amount by category, sentiment towards specific products and price points, and lastly the survey on lifestyle info such as hobbies, fashion etc.\n",
    "- By collecting more features, the customer segmentation/clustering of similar customers into groups will be more effective and we can infer more out of the clusters formed and will able to give suggestions to the company based on the analysis that will help the business to target the right customers and stand in the market for longer and make high revenue. "
   ]
  }
 ],
 "metadata": {
  "colab": {
   "collapsed_sections": [
    "bff2fa31"
   ],
   "provenance": []
  },
  "kernelspec": {
   "display_name": "Python 3 (ipykernel)",
   "language": "python",
   "name": "python3"
  },
  "language_info": {
   "codemirror_mode": {
    "name": "ipython",
    "version": 3
   },
   "file_extension": ".py",
   "mimetype": "text/x-python",
   "name": "python",
   "nbconvert_exporter": "python",
   "pygments_lexer": "ipython3",
   "version": "3.11.5"
  }
 },
 "nbformat": 4,
 "nbformat_minor": 5
}
